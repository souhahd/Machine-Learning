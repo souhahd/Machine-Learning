{
  "nbformat": 4,
  "nbformat_minor": 0,
  "metadata": {
    "colab": {
      "name": "RégLinéaireSimpleNumpy.ipynb",
      "provenance": []
    },
    "kernelspec": {
      "name": "python3",
      "display_name": "Python 3"
    },
    "language_info": {
      "name": "python"
    }
  },
  "cells": [
    {
      "cell_type": "markdown",
      "metadata": {
        "id": "_DLPqisRkIOQ"
      },
      "source": [
        "# **Régression Linéaire Simple Numpy**"
      ]
    },
    {
      "cell_type": "code",
      "metadata": {
        "id": "kpD4-sjcesH6"
      },
      "source": [
        "import numpy as np"
      ],
      "execution_count": 1,
      "outputs": []
    },
    {
      "cell_type": "code",
      "metadata": {
        "id": "nVzP2vMXewzC"
      },
      "source": [
        "from sklearn.datasets import make_regression"
      ],
      "execution_count": 2,
      "outputs": []
    },
    {
      "cell_type": "code",
      "metadata": {
        "id": "PvK41bJtfAhl"
      },
      "source": [
        "import matplotlib.pyplot as plt"
      ],
      "execution_count": 81,
      "outputs": []
    },
    {
      "cell_type": "code",
      "metadata": {
        "colab": {
          "base_uri": "https://localhost:8080/",
          "height": 282
        },
        "id": "FBUqMHlwfJUh",
        "outputId": "5921710a-2f0e-4746-f9a4-52e6ed7aac08"
      },
      "source": [
        "np.random.seed(0)\n",
        "x,y = make_regression(n_samples=100,n_features=1,bias=10)\n",
        "plt.scatter(x,y)"
      ],
      "execution_count": 82,
      "outputs": [
        {
          "output_type": "execute_result",
          "data": {
            "text/plain": [
              "<matplotlib.collections.PathCollection at 0x7f698cf73d90>"
            ]
          },
          "metadata": {},
          "execution_count": 82
        },
        {
          "output_type": "display_data",
          "data": {
            "image/png": "[encoded data removed]",
            "text/plain": [
              "<Figure size 432x288 with 1 Axes>"
            ]
          },
          "metadata": {
            "needs_background": "light"
          }
        }
      ]
    },
    {
      "cell_type": "code",
      "metadata": {
        "colab": {
          "base_uri": "https://localhost:8080/"
        },
        "id": "UY3JRMOdgtyb",
        "outputId": "0aed45a5-8581-4d75-c7ba-7e067e920903"
      },
      "source": [
        "print(x.shape)\n",
        "print(y.shape)"
      ],
      "execution_count": 83,
      "outputs": [
        {
          "output_type": "stream",
          "name": "stdout",
          "text": [
            "(100, 1)\n",
            "(100,)\n"
          ]
        }
      ]
    },
    {
      "cell_type": "code",
      "metadata": {
        "colab": {
          "base_uri": "https://localhost:8080/"
        },
        "id": "OfyTuTagg9EW",
        "outputId": "505d56d6-6095-4346-bff6-32d147fe818b"
      },
      "source": [
        "y= y.reshape(y.shape[0],1)\n",
        "y.shape"
      ],
      "execution_count": 84,
      "outputs": [
        {
          "output_type": "execute_result",
          "data": {
            "text/plain": [
              "(100, 1)"
            ]
          },
          "metadata": {},
          "execution_count": 84
        }
      ]
    },
    {
      "cell_type": "code",
      "metadata": {
        "colab": {
          "base_uri": "https://localhost:8080/"
        },
        "id": "T0iUx57MhEdo",
        "outputId": "7290b319-915e-4248-8f0f-973fe8444b1c"
      },
      "source": [
        "y.shape"
      ],
      "execution_count": 85,
      "outputs": [
        {
          "output_type": "execute_result",
          "data": {
            "text/plain": [
              "(100, 1)"
            ]
          },
          "metadata": {},
          "execution_count": 85
        }
      ]
    },
    {
      "cell_type": "code",
      "metadata": {
        "colab": {
          "base_uri": "https://localhost:8080/"
        },
        "id": "GLVYtz-kh3-i",
        "outputId": "e1c373ae-2786-48f8-e130-a0b78d11602d"
      },
      "source": [
        "X = np.hstack((x, np.ones(x.shape)))\n",
        "print(X.shape)"
      ],
      "execution_count": 86,
      "outputs": [
        {
          "output_type": "stream",
          "name": "stdout",
          "text": [
            "(100, 2)\n"
          ]
        }
      ]
    },
    {
      "cell_type": "code",
      "metadata": {
        "colab": {
          "base_uri": "https://localhost:8080/"
        },
        "id": "WU7azpQ81fdd",
        "outputId": "da515f27-b5d3-4e56-f240-64156fc2f15e"
      },
      "source": [
        "np.random.seed(0)\n",
        "theta = np.random.randn(2,1)\n",
        "theta"
      ],
      "execution_count": 87,
      "outputs": [
        {
          "output_type": "execute_result",
          "data": {
            "text/plain": [
              "array([[1.76405235],\n",
              "       [0.40015721]])"
            ]
          },
          "metadata": {},
          "execution_count": 87
        }
      ]
    },
    {
      "cell_type": "markdown",
      "metadata": {
        "id": "iGBo5vVo4Q8X"
      },
      "source": [
        "# **modele**\n",
        "\n",
        "\n"
      ]
    },
    {
      "cell_type": "code",
      "metadata": {
        "id": "2izEe1Yk4Oid"
      },
      "source": [
        "def model(X,theta):\n",
        "  return X.dot(theta)"
      ],
      "execution_count": 88,
      "outputs": []
    },
    {
      "cell_type": "code",
      "metadata": {
        "colab": {
          "base_uri": "https://localhost:8080/",
          "height": 282
        },
        "id": "nSxBOOA2KZ0K",
        "outputId": "09bf24d4-8516-4baa-8920-62bd9974fe08"
      },
      "source": [
        "plt.scatter(x, y)\n",
        "plt.plot(x, model(X, theta), c='r')"
      ],
      "execution_count": 90,
      "outputs": [
        {
          "output_type": "execute_result",
          "data": {
            "text/plain": [
              "[<matplotlib.lines.Line2D at 0x7f698ce6d290>]"
            ]
          },
          "metadata": {},
          "execution_count": 90
        },
        {
          "output_type": "display_data",
          "data": {
            "image/png": "[encoded data removed]",
            "text/plain": [
              "<Figure size 432x288 with 1 Axes>"
            ]
          },
          "metadata": {
            "needs_background": "light"
          }
        }
      ]
    },
    {
      "cell_type": "code",
      "metadata": {
        "colab": {
          "base_uri": "https://localhost:8080/",
          "height": 282
        },
        "id": "H-STUinUKeHu",
        "outputId": "a7068fac-7a7f-4297-cf33-48d933488865"
      },
      "source": [
        "plt.plot(x,model(X,theta))"
      ],
      "execution_count": 92,
      "outputs": [
        {
          "output_type": "execute_result",
          "data": {
            "text/plain": [
              "[<matplotlib.lines.Line2D at 0x7f698ce5c290>]"
            ]
          },
          "metadata": {},
          "execution_count": 92
        },
        {
          "output_type": "display_data",
          "data": {
            "image/png": "[encoded data removed]",
            "text/plain": [
              "<Figure size 432x288 with 1 Axes>"
            ]
          },
          "metadata": {
            "needs_background": "light"
          }
        }
      ]
    },
    {
      "cell_type": "markdown",
      "metadata": {
        "id": "NmfEBjNZL8qq"
      },
      "source": [
        "# **fonction cout**"
      ]
    },
    {
      "cell_type": "code",
      "metadata": {
        "id": "rSk3rCRSKkA4"
      },
      "source": [
        "def cost_function(X, y, theta):\n",
        "  m=len(y)\n",
        "  return 1/(2*m)*np.sum((model(X,theta)-y)**2)"
      ],
      "execution_count": 97,
      "outputs": []
    },
    {
      "cell_type": "code",
      "metadata": {
        "colab": {
          "base_uri": "https://localhost:8080/"
        },
        "id": "BJIpoNNnMHbe",
        "outputId": "f021e7cc-081f-4d3b-ddb2-58c21c5a6ed4"
      },
      "source": [
        "cost_function(X,y,theta)"
      ],
      "execution_count": 98,
      "outputs": [
        {
          "output_type": "execute_result",
          "data": {
            "text/plain": [
              "910.4613784257111"
            ]
          },
          "metadata": {},
          "execution_count": 98
        }
      ]
    },
    {
      "cell_type": "markdown",
      "metadata": {
        "id": "3IGTNxZGNCds"
      },
      "source": [
        "# **Gradients et desceente de gradient**"
      ]
    },
    {
      "cell_type": "code",
      "metadata": {
        "id": "9WtokWwCM1e3"
      },
      "source": [
        "def grad(X,y,theta):\n",
        "  m=len(y)\n",
        "  return 1/m + X.T.dot(model(X,theta)-y)"
      ],
      "execution_count": 99,
      "outputs": []
    },
    {
      "cell_type": "code",
      "metadata": {
        "id": "xYBYEaW5NaVR"
      },
      "source": [
        "def gradient_descent(X, y, theta, learning_rate, n_iterations):\n",
        "    \n",
        "    cost_history = np.zeros(n_iterations) # création d'un tableau de stockage pour enregistrer l'évolution du Cout du modele\n",
        "    \n",
        "    for i in range(0, n_iterations):\n",
        "        theta = theta - learning_rate * grad(X, y, theta) # mise a jour du parametre theta (formule du gradient descent)\n",
        "        cost_history[i] = cost_function(X, y, theta) # on enregistre la valeur du Cout au tour i dans cost_history[i]\n",
        "        \n",
        "    return theta, cost_history"
      ],
      "execution_count": 101,
      "outputs": []
    },
    {
      "cell_type": "code",
      "metadata": {
        "id": "A2DW1BeFOEPA"
      },
      "source": [
        "n_iterations = 1000\n",
        "learning_rate = 0.01\n",
        "\n",
        "\n",
        "theta_final, cost_history = gradient_descent(X, y, theta, learning_rate, n_iterations)"
      ],
      "execution_count": 103,
      "outputs": []
    },
    {
      "cell_type": "code",
      "metadata": {
        "colab": {
          "base_uri": "https://localhost:8080/"
        },
        "id": "g9Pq7PmYOTQg",
        "outputId": "1cf04913-1b50-435d-e7be-a2365f128436"
      },
      "source": [
        "theta_final"
      ],
      "execution_count": 104,
      "outputs": [
        {
          "output_type": "execute_result",
          "data": {
            "text/plain": [
              "array([[42.3854123 ],\n",
              "       [ 9.99990554]])"
            ]
          },
          "metadata": {},
          "execution_count": 104
        }
      ]
    },
    {
      "cell_type": "code",
      "metadata": {
        "colab": {
          "base_uri": "https://localhost:8080/",
          "height": 282
        },
        "id": "hiyOAteGOkty",
        "outputId": "b2e14244-356a-4505-aa33-8ee6bbf54c36"
      },
      "source": [
        "# création d'un vecteur prédictions qui contient les prédictions de notre modele final\n",
        "predictions = model(X, theta_final)\n",
        "\n",
        "# Affiche les résultats de prédictions (en rouge) par rapport a notre Dataset (en bleu)\n",
        "plt.scatter(x, y)\n",
        "plt.plot(x, predictions, c='r')"
      ],
      "execution_count": 105,
      "outputs": [
        {
          "output_type": "execute_result",
          "data": {
            "text/plain": [
              "[<matplotlib.lines.Line2D at 0x7f698cdd5790>]"
            ]
          },
          "metadata": {},
          "execution_count": 105
        },
        {
          "output_type": "display_data",
          "data": {
            "image/png": "[encoded data removed]",
            "text/plain": [
              "<Figure size 432x288 with 1 Axes>"
            ]
          },
          "metadata": {
            "needs_background": "light"
          }
        }
      ]
    },
    {
      "cell_type": "markdown",
      "metadata": {
        "id": "f87IfrTbjlWi"
      },
      "source": [
        "\n",
        "# **Courbes d'apprentissage**"
      ]
    },
    {
      "cell_type": "code",
      "metadata": {
        "colab": {
          "base_uri": "https://localhost:8080/",
          "height": 282
        },
        "id": "PN0CcmQ5jpQj",
        "outputId": "46f5794b-2bd8-48a0-9670-219d69f5efcc"
      },
      "source": [
        "plt.plot(range(n_iterations), cost_history)"
      ],
      "execution_count": 106,
      "outputs": [
        {
          "output_type": "execute_result",
          "data": {
            "text/plain": [
              "[<matplotlib.lines.Line2D at 0x7f698cd31f90>]"
            ]
          },
          "metadata": {},
          "execution_count": 106
        },
        {
          "output_type": "display_data",
          "data": {
            "image/png": "[encoded data removed]",
            "text/plain": [
              "<Figure size 432x288 with 1 Axes>"
            ]
          },
          "metadata": {
            "needs_background": "light"
          }
        }
      ]
    },
    {
      "cell_type": "markdown",
      "metadata": {
        "id": "zMIsb3FZjzmJ"
      },
      "source": [
        "# **Evaluation finale**"
      ]
    },
    {
      "cell_type": "code",
      "metadata": {
        "id": "cBDRtcpQO-xP"
      },
      "source": [
        "def coef_determination(y, pred):\n",
        "    u = ((y - pred)**2).sum()\n",
        "    v = ((y - y.mean())**2).sum()\n",
        "    return 1 - u/v"
      ],
      "execution_count": 107,
      "outputs": []
    },
    {
      "cell_type": "code",
      "metadata": {
        "colab": {
          "base_uri": "https://localhost:8080/"
        },
        "id": "yI9XMRSyj6Y5",
        "outputId": "4d858d4d-a727-471c-8d79-d9c061a9c6ac"
      },
      "source": [
        "coef_determination(y, predictions)"
      ],
      "execution_count": 108,
      "outputs": [
        {
          "output_type": "execute_result",
          "data": {
            "text/plain": [
              "0.9999999999897522"
            ]
          },
          "metadata": {},
          "execution_count": 108
        }
      ]
    },
    {
      "cell_type": "code",
      "metadata": {
        "id": "IqH7FNVej_zK"
      },
      "source": [
        ""
      ],
      "execution_count": null,
      "outputs": []
    }
  ]
}